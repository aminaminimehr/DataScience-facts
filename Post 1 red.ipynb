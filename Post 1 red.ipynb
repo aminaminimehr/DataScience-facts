{
 "cells": [
  {
   "cell_type": "code",
   "execution_count": 1,
   "id": "b55a4fb9",
   "metadata": {},
   "outputs": [],
   "source": [
    "import pytse_client as tse\n",
    "import pandas as pd\n",
    "import matplotlib.pyplot as plt\n",
    "\n",
    "vabemelat = tse.Ticker('وبملت')\n",
    "vabemelat = vabemelat.history\n",
    "\n",
    "khetur = tse.Ticker('ختور')\n",
    "khetur = khetur.history\n",
    "\n",
    "shiran =  tse.Ticker('شیران')\n",
    "shiran = shiran.history"
   ]
  },
  {
   "cell_type": "code",
   "execution_count": 11,
   "id": "a50022ff",
   "metadata": {},
   "outputs": [],
   "source": [
    "vabemelat_bazdeh = vabemelat['close'].pct_change().mean()\n",
    "vabemelat_risk = vabemelat['close'].pct_change().var()\n",
    "\n",
    "khetur_bazdeh = khetur['close'].pct_change().mean()\n",
    "khetur_risk = khetur['close'].pct_change().var()\n",
    "\n",
    "shiran_bazdeh = shiran['close'].pct_change().mean()\n",
    "shiran_risk = shiran['close'].pct_change().var()"
   ]
  },
  {
   "cell_type": "code",
   "execution_count": 12,
   "id": "a8adc2b8",
   "metadata": {},
   "outputs": [],
   "source": [
    "bazi_ha = pd.DataFrame({'bazdeh': [ vabemelat_bazdeh , khetur_bazdeh , shiran_bazdeh] ,\n",
    "              'risk': [ vabemelat_risk , khetur_risk , shiran_risk]} , index = ['vabemelat' , 'khetur' , 'shiran'] )"
   ]
  },
  {
   "cell_type": "code",
   "execution_count": 13,
   "id": "80ad5451",
   "metadata": {},
   "outputs": [
    {
     "data": {
      "text/html": [
       "<div>\n",
       "<style scoped>\n",
       "    .dataframe tbody tr th:only-of-type {\n",
       "        vertical-align: middle;\n",
       "    }\n",
       "\n",
       "    .dataframe tbody tr th {\n",
       "        vertical-align: top;\n",
       "    }\n",
       "\n",
       "    .dataframe thead th {\n",
       "        text-align: right;\n",
       "    }\n",
       "</style>\n",
       "<table border=\"1\" class=\"dataframe\">\n",
       "  <thead>\n",
       "    <tr style=\"text-align: right;\">\n",
       "      <th></th>\n",
       "      <th>bazdeh</th>\n",
       "      <th>risk</th>\n",
       "    </tr>\n",
       "  </thead>\n",
       "  <tbody>\n",
       "    <tr>\n",
       "      <th>vabemelat</th>\n",
       "      <td>0.001310</td>\n",
       "      <td>0.001020</td>\n",
       "    </tr>\n",
       "    <tr>\n",
       "      <th>khetur</th>\n",
       "      <td>0.001604</td>\n",
       "      <td>0.001583</td>\n",
       "    </tr>\n",
       "    <tr>\n",
       "      <th>shiran</th>\n",
       "      <td>0.000851</td>\n",
       "      <td>0.001366</td>\n",
       "    </tr>\n",
       "  </tbody>\n",
       "</table>\n",
       "</div>"
      ],
      "text/plain": [
       "             bazdeh      risk\n",
       "vabemelat  0.001310  0.001020\n",
       "khetur     0.001604  0.001583\n",
       "shiran     0.000851  0.001366"
      ]
     },
     "execution_count": 13,
     "metadata": {},
     "output_type": "execute_result"
    }
   ],
   "source": [
    "bazi_ha"
   ]
  },
  {
   "cell_type": "code",
   "execution_count": 14,
   "id": "aeb5f80b",
   "metadata": {},
   "outputs": [
    {
     "data": {
      "text/plain": [
       "<AxesSubplot:>"
      ]
     },
     "execution_count": 14,
     "metadata": {},
     "output_type": "execute_result"
    },
    {
     "data": {
      "image/png": "[encoded data removed]",
      "text/plain": [
       "<Figure size 432x288 with 1 Axes>"
      ]
     },
     "metadata": {
      "needs_background": "light"
     },
     "output_type": "display_data"
    }
   ],
   "source": [
    "bazi_ha.plot(kind = 'bar')"
   ]
  },
  {
   "cell_type": "code",
   "execution_count": null,
   "id": "d0557d9c",
   "metadata": {},
   "outputs": [],
   "source": []
  }
 ],
 "metadata": {
  "kernelspec": {
   "display_name": "Python 3",
   "language": "python",
   "name": "python3"
  },
  "language_info": {
   "codemirror_mode": {
    "name": "ipython",
    "version": 3
   },
   "file_extension": ".py",
   "mimetype": "text/x-python",
   "name": "python",
   "nbconvert_exporter": "python",
   "pygments_lexer": "ipython3",
   "version": "3.8.8"
  }
 },
 "nbformat": 4,
 "nbformat_minor": 5
}
