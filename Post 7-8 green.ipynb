{
 "cells": [
  {
   "cell_type": "code",
   "execution_count": 2,
   "id": "a4edec16",
   "metadata": {},
   "outputs": [],
   "source": [
    "import pandas as pd\n",
    "import matplotlib.pyplot as plt\n",
    "import numpy as np\n",
    "\n",
    "import pandas_datareader as pdr\n",
    "import datetime as dt"
   ]
  },
  {
   "cell_type": "code",
   "execution_count": 3,
   "id": "11cd31e2",
   "metadata": {},
   "outputs": [],
   "source": [
    "start = dt.datetime(2000,1,1)\n",
    "end = dt.datetime.now()\n",
    "\n",
    "coin = [\"BTC-USD\" , \"ETH-USD\"]\n",
    "\n",
    "df = pd.DataFrame()\n",
    "\n",
    "for i in coin:\n",
    "    data = pdr.DataReader(i , \"yahoo\" , start , end)\n",
    "    df = pd.concat([df , data['Close']] , axis = 1)"
   ]
  },
  {
   "cell_type": "code",
   "execution_count": 5,
   "id": "f7769799",
   "metadata": {},
   "outputs": [
    {
     "data": {
      "text/html": [
       "<div>\n",
       "<style scoped>\n",
       "    .dataframe tbody tr th:only-of-type {\n",
       "        vertical-align: middle;\n",
       "    }\n",
       "\n",
       "    .dataframe tbody tr th {\n",
       "        vertical-align: top;\n",
       "    }\n",
       "\n",
       "    .dataframe thead th {\n",
       "        text-align: right;\n",
       "    }\n",
       "</style>\n",
       "<table border=\"1\" class=\"dataframe\">\n",
       "  <thead>\n",
       "    <tr style=\"text-align: right;\">\n",
       "      <th></th>\n",
       "      <th>BTC-USD</th>\n",
       "      <th>ETH-USD</th>\n",
       "    </tr>\n",
       "  </thead>\n",
       "  <tbody>\n",
       "    <tr>\n",
       "      <th>2014-09-17</th>\n",
       "      <td>457.334015</td>\n",
       "      <td>NaN</td>\n",
       "    </tr>\n",
       "    <tr>\n",
       "      <th>2014-09-18</th>\n",
       "      <td>424.440002</td>\n",
       "      <td>NaN</td>\n",
       "    </tr>\n",
       "    <tr>\n",
       "      <th>2014-09-19</th>\n",
       "      <td>394.795990</td>\n",
       "      <td>NaN</td>\n",
       "    </tr>\n",
       "    <tr>\n",
       "      <th>2014-09-20</th>\n",
       "      <td>408.903992</td>\n",
       "      <td>NaN</td>\n",
       "    </tr>\n",
       "    <tr>\n",
       "      <th>2014-09-21</th>\n",
       "      <td>398.821014</td>\n",
       "      <td>NaN</td>\n",
       "    </tr>\n",
       "    <tr>\n",
       "      <th>...</th>\n",
       "      <td>...</td>\n",
       "      <td>...</td>\n",
       "    </tr>\n",
       "    <tr>\n",
       "      <th>2022-05-25</th>\n",
       "      <td>29562.361328</td>\n",
       "      <td>1944.827881</td>\n",
       "    </tr>\n",
       "    <tr>\n",
       "      <th>2022-05-26</th>\n",
       "      <td>29267.224609</td>\n",
       "      <td>1803.913330</td>\n",
       "    </tr>\n",
       "    <tr>\n",
       "      <th>2022-05-27</th>\n",
       "      <td>28627.574219</td>\n",
       "      <td>1724.922852</td>\n",
       "    </tr>\n",
       "    <tr>\n",
       "      <th>2022-05-28</th>\n",
       "      <td>28814.900391</td>\n",
       "      <td>1757.941772</td>\n",
       "    </tr>\n",
       "    <tr>\n",
       "      <th>2022-05-31</th>\n",
       "      <td>31648.191406</td>\n",
       "      <td>1981.007690</td>\n",
       "    </tr>\n",
       "  </tbody>\n",
       "</table>\n",
       "<p>2812 rows × 2 columns</p>\n",
       "</div>"
      ],
      "text/plain": [
       "                 BTC-USD      ETH-USD\n",
       "2014-09-17    457.334015          NaN\n",
       "2014-09-18    424.440002          NaN\n",
       "2014-09-19    394.795990          NaN\n",
       "2014-09-20    408.903992          NaN\n",
       "2014-09-21    398.821014          NaN\n",
       "...                  ...          ...\n",
       "2022-05-25  29562.361328  1944.827881\n",
       "2022-05-26  29267.224609  1803.913330\n",
       "2022-05-27  28627.574219  1724.922852\n",
       "2022-05-28  28814.900391  1757.941772\n",
       "2022-05-31  31648.191406  1981.007690\n",
       "\n",
       "[2812 rows x 2 columns]"
      ]
     },
     "execution_count": 5,
     "metadata": {},
     "output_type": "execute_result"
    }
   ],
   "source": [
    "df = pd.DataFrame(data = df.values , index = df.index , columns = coin)\n",
    "df"
   ]
  },
  {
   "cell_type": "code",
   "execution_count": 6,
   "id": "ad20237e",
   "metadata": {},
   "outputs": [],
   "source": [
    "def cumulative_return(price_serie):\n",
    "    na_len = price_serie.isna().sum()\n",
    "    na_array = np.array([np.nan for i in range(na_len)])\n",
    "    price_serie = price_serie.dropna(axis = 0)\n",
    "    returnn = price_serie.pct_change()\n",
    "    returnn_1 = returnn.values + 1\n",
    "    returnn_1 = returnn_1[1:]\n",
    "    cumulative_return = [1]\n",
    "    for i in range(len(returnn_1)):\n",
    "        cumulative_return.append(cumulative_return[i] * returnn_1[i])\n",
    "    cumulative_return = np.array(cumulative_return)\n",
    "    cumulative_return = np.concatenate([na_array , cumulative_return])\n",
    "    return(cumulative_return)"
   ]
  },
  {
   "cell_type": "code",
   "execution_count": 7,
   "id": "dac87244",
   "metadata": {},
   "outputs": [
    {
     "name": "stdout",
     "output_type": "stream",
     "text": [
      "BTC-USD\n",
      "ETH-USD\n"
     ]
    }
   ],
   "source": [
    "for i in coin:\n",
    "    df[i + \" CR\"] = cumulative_return(df[i])\n",
    "    print(i)"
   ]
  },
  {
   "cell_type": "code",
   "execution_count": 8,
   "id": "9322d366",
   "metadata": {},
   "outputs": [],
   "source": [
    "df_return = df.drop(coin , axis = 1)"
   ]
  },
  {
   "cell_type": "code",
   "execution_count": 9,
   "id": "363c126a",
   "metadata": {},
   "outputs": [
    {
     "data": {
      "text/html": [
       "<div>\n",
       "<style scoped>\n",
       "    .dataframe tbody tr th:only-of-type {\n",
       "        vertical-align: middle;\n",
       "    }\n",
       "\n",
       "    .dataframe tbody tr th {\n",
       "        vertical-align: top;\n",
       "    }\n",
       "\n",
       "    .dataframe thead th {\n",
       "        text-align: right;\n",
       "    }\n",
       "</style>\n",
       "<table border=\"1\" class=\"dataframe\">\n",
       "  <thead>\n",
       "    <tr style=\"text-align: right;\">\n",
       "      <th></th>\n",
       "      <th>BTC-USD CR</th>\n",
       "      <th>ETH-USD CR</th>\n",
       "    </tr>\n",
       "  </thead>\n",
       "  <tbody>\n",
       "    <tr>\n",
       "      <th>2014-09-17</th>\n",
       "      <td>1.000000</td>\n",
       "      <td>NaN</td>\n",
       "    </tr>\n",
       "    <tr>\n",
       "      <th>2014-09-18</th>\n",
       "      <td>0.928074</td>\n",
       "      <td>NaN</td>\n",
       "    </tr>\n",
       "    <tr>\n",
       "      <th>2014-09-19</th>\n",
       "      <td>0.863255</td>\n",
       "      <td>NaN</td>\n",
       "    </tr>\n",
       "    <tr>\n",
       "      <th>2014-09-20</th>\n",
       "      <td>0.894104</td>\n",
       "      <td>NaN</td>\n",
       "    </tr>\n",
       "    <tr>\n",
       "      <th>2014-09-21</th>\n",
       "      <td>0.872056</td>\n",
       "      <td>NaN</td>\n",
       "    </tr>\n",
       "    <tr>\n",
       "      <th>...</th>\n",
       "      <td>...</td>\n",
       "      <td>...</td>\n",
       "    </tr>\n",
       "    <tr>\n",
       "      <th>2022-05-25</th>\n",
       "      <td>64.640635</td>\n",
       "      <td>6.060844</td>\n",
       "    </tr>\n",
       "    <tr>\n",
       "      <th>2022-05-26</th>\n",
       "      <td>63.995294</td>\n",
       "      <td>5.621699</td>\n",
       "    </tr>\n",
       "    <tr>\n",
       "      <th>2022-05-27</th>\n",
       "      <td>62.596643</td>\n",
       "      <td>5.375534</td>\n",
       "    </tr>\n",
       "    <tr>\n",
       "      <th>2022-05-28</th>\n",
       "      <td>63.006248</td>\n",
       "      <td>5.478434</td>\n",
       "    </tr>\n",
       "    <tr>\n",
       "      <th>2022-05-31</th>\n",
       "      <td>69.201482</td>\n",
       "      <td>6.173594</td>\n",
       "    </tr>\n",
       "  </tbody>\n",
       "</table>\n",
       "<p>2812 rows × 2 columns</p>\n",
       "</div>"
      ],
      "text/plain": [
       "            BTC-USD CR  ETH-USD CR\n",
       "2014-09-17    1.000000         NaN\n",
       "2014-09-18    0.928074         NaN\n",
       "2014-09-19    0.863255         NaN\n",
       "2014-09-20    0.894104         NaN\n",
       "2014-09-21    0.872056         NaN\n",
       "...                ...         ...\n",
       "2022-05-25   64.640635    6.060844\n",
       "2022-05-26   63.995294    5.621699\n",
       "2022-05-27   62.596643    5.375534\n",
       "2022-05-28   63.006248    5.478434\n",
       "2022-05-31   69.201482    6.173594\n",
       "\n",
       "[2812 rows x 2 columns]"
      ]
     },
     "execution_count": 9,
     "metadata": {},
     "output_type": "execute_result"
    }
   ],
   "source": [
    "df_return"
   ]
  },
  {
   "cell_type": "code",
   "execution_count": 11,
   "id": "4dd5d968",
   "metadata": {},
   "outputs": [
    {
     "data": {
      "text/plain": [
       "<matplotlib.legend.Legend at 0x2c6f6f7e2e0>"
      ]
     },
     "execution_count": 11,
     "metadata": {},
     "output_type": "execute_result"
    },
    {
     "data": {
      "image/png": "[encoded data removed]",
      "text/plain": [
       "<Figure size 1080x576 with 1 Axes>"
      ]
     },
     "metadata": {},
     "output_type": "display_data"
    }
   ],
   "source": [
    "from matplotlib import style\n",
    "style.use('seaborn')\n",
    "\n",
    "plt.figure(figsize = [15 , 8])\n",
    "\n",
    "for i in df_return.columns:\n",
    "    plt.plot(df[i] , label = i)\n",
    "plt.legend()"
   ]
  },
  {
   "cell_type": "code",
   "execution_count": null,
   "id": "d10cfc50",
   "metadata": {},
   "outputs": [],
   "source": []
  }
 ],
 "metadata": {
  "kernelspec": {
   "display_name": "Python 3 (ipykernel)",
   "language": "python",
   "name": "python3"
  },
  "language_info": {
   "codemirror_mode": {
    "name": "ipython",
    "version": 3
   },
   "file_extension": ".py",
   "mimetype": "text/x-python",
   "name": "python",
   "nbconvert_exporter": "python",
   "pygments_lexer": "ipython3",
   "version": "3.9.7"
  }
 },
 "nbformat": 4,
 "nbformat_minor": 5
}
